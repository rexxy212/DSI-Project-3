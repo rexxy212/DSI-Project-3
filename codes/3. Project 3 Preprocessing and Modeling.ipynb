{
 "cells": [
  {
   "cell_type": "code",
   "execution_count": 72,
   "id": "76151724",
   "metadata": {},
   "outputs": [],
   "source": [
    "# Basic Imports\n",
    "import pandas as pd\n",
    "import numpy as np\n",
    "import seaborn as sns\n",
    "import matplotlib.pyplot as plt\n",
    "import matplotlib\n",
    "import string\n",
    "\n",
    "# Webscrapping Imports\n",
    "from bs4 import BeautifulSoup       \n",
    "import regex as re\n",
    "\n",
    "# NLP Imports\n",
    "from nltk.corpus import stopwords, wordnet\n",
    "import nltk\n",
    "\n",
    "# Modelling Imports\n",
    "from joblib import Parallel, delayed\n",
    "from sklearn.feature_extraction import text\n",
    "from sklearn.feature_extraction.text import CountVectorizer, TfidfVectorizer\n",
    "from sklearn.model_selection import train_test_split, GridSearchCV,cross_val_score\n",
    "from sklearn.linear_model import LogisticRegression\n",
    "from sklearn.pipeline import Pipeline\n",
    "from sklearn.feature_extraction import text\n",
    "from sklearn.metrics import confusion_matrix\n",
    "from sklearn.metrics import roc_curve, roc_auc_score\n",
    "\n",
    "# Ignore warnings\n",
    "import warnings\n",
    "def ignore_warn(*args,**kwargs):\n",
    "    pass\n",
    "warnings.warn=ignore_warn\n",
    "\n",
    "#Stylistic Choice:\n",
    "plt.style.use('bmh')\n",
    "sns.set_palette(\"RdBu_r\")"
   ]
  },
  {
   "cell_type": "code",
   "execution_count": 2,
   "id": "144fd718",
   "metadata": {},
   "outputs": [],
   "source": [
    "#loading in datasets\n",
    "onion = pd.read_csv('../data/theonion_clean.csv')\n",
    "news = pd.read_csv('../data/news_cleaned.csv')"
   ]
  },
  {
   "cell_type": "code",
   "execution_count": 3,
   "id": "2af6eafa",
   "metadata": {},
   "outputs": [
    {
     "data": {
      "text/html": [
       "<div>\n",
       "<style scoped>\n",
       "    .dataframe tbody tr th:only-of-type {\n",
       "        vertical-align: middle;\n",
       "    }\n",
       "\n",
       "    .dataframe tbody tr th {\n",
       "        vertical-align: top;\n",
       "    }\n",
       "\n",
       "    .dataframe thead th {\n",
       "        text-align: right;\n",
       "    }\n",
       "</style>\n",
       "<table border=\"1\" class=\"dataframe\">\n",
       "  <thead>\n",
       "    <tr style=\"text-align: right;\">\n",
       "      <th></th>\n",
       "      <th>created_utc</th>\n",
       "      <th>subreddit</th>\n",
       "      <th>title</th>\n",
       "    </tr>\n",
       "  </thead>\n",
       "  <tbody>\n",
       "    <tr>\n",
       "      <th>0</th>\n",
       "      <td>1635090051</td>\n",
       "      <td>TheOnion</td>\n",
       "      <td>Smithsonian Acquires Arms Of Kermit The Frog P...</td>\n",
       "    </tr>\n",
       "    <tr>\n",
       "      <th>1</th>\n",
       "      <td>1634958726</td>\n",
       "      <td>TheOnion</td>\n",
       "      <td>Less Popular Friend Only Included In Suicide P...</td>\n",
       "    </tr>\n",
       "    <tr>\n",
       "      <th>2</th>\n",
       "      <td>1634940672</td>\n",
       "      <td>TheOnion</td>\n",
       "      <td>Crypto-Averse Man Would Prefer Investing In Tr...</td>\n",
       "    </tr>\n",
       "    <tr>\n",
       "      <th>3</th>\n",
       "      <td>1634910709</td>\n",
       "      <td>TheOnion</td>\n",
       "      <td>God Loses Pouch Filled With Crystals That Give...</td>\n",
       "    </tr>\n",
       "    <tr>\n",
       "      <th>4</th>\n",
       "      <td>1634872463</td>\n",
       "      <td>TheOnion</td>\n",
       "      <td>Retired NFL Player Touts Sports Betting App As...</td>\n",
       "    </tr>\n",
       "    <tr>\n",
       "      <th>...</th>\n",
       "      <td>...</td>\n",
       "      <td>...</td>\n",
       "      <td>...</td>\n",
       "    </tr>\n",
       "    <tr>\n",
       "      <th>2013</th>\n",
       "      <td>1580708304</td>\n",
       "      <td>TheOnion</td>\n",
       "      <td>The Onion is made a podcast called \"The Topica...</td>\n",
       "    </tr>\n",
       "    <tr>\n",
       "      <th>2014</th>\n",
       "      <td>1580691176</td>\n",
       "      <td>TheOnion</td>\n",
       "      <td>‘I’m Just Here For The Commercials,’ Jokes Man...</td>\n",
       "    </tr>\n",
       "    <tr>\n",
       "      <th>2015</th>\n",
       "      <td>1580669936</td>\n",
       "      <td>TheOnion</td>\n",
       "      <td>My god how much Budget did they have for this?</td>\n",
       "    </tr>\n",
       "    <tr>\n",
       "      <th>2016</th>\n",
       "      <td>1580662117</td>\n",
       "      <td>TheOnion</td>\n",
       "      <td>Snacks Distract Lawmakers From Horrors of War</td>\n",
       "    </tr>\n",
       "    <tr>\n",
       "      <th>2017</th>\n",
       "      <td>1580589888</td>\n",
       "      <td>TheOnion</td>\n",
       "      <td>Onion Talks: Hypothetically It Would Be Okay T...</td>\n",
       "    </tr>\n",
       "  </tbody>\n",
       "</table>\n",
       "<p>2018 rows × 3 columns</p>\n",
       "</div>"
      ],
      "text/plain": [
       "      created_utc subreddit                                              title\n",
       "0      1635090051  TheOnion  Smithsonian Acquires Arms Of Kermit The Frog P...\n",
       "1      1634958726  TheOnion  Less Popular Friend Only Included In Suicide P...\n",
       "2      1634940672  TheOnion  Crypto-Averse Man Would Prefer Investing In Tr...\n",
       "3      1634910709  TheOnion  God Loses Pouch Filled With Crystals That Give...\n",
       "4      1634872463  TheOnion  Retired NFL Player Touts Sports Betting App As...\n",
       "...           ...       ...                                                ...\n",
       "2013   1580708304  TheOnion  The Onion is made a podcast called \"The Topica...\n",
       "2014   1580691176  TheOnion  ‘I’m Just Here For The Commercials,’ Jokes Man...\n",
       "2015   1580669936  TheOnion     My god how much Budget did they have for this?\n",
       "2016   1580662117  TheOnion      Snacks Distract Lawmakers From Horrors of War\n",
       "2017   1580589888  TheOnion  Onion Talks: Hypothetically It Would Be Okay T...\n",
       "\n",
       "[2018 rows x 3 columns]"
      ]
     },
     "execution_count": 3,
     "metadata": {},
     "output_type": "execute_result"
    }
   ],
   "source": [
    "#quick look at the loaded datasets\n",
    "onion"
   ]
  },
  {
   "cell_type": "code",
   "execution_count": 4,
   "id": "1fe48f9c",
   "metadata": {},
   "outputs": [
    {
     "data": {
      "text/html": [
       "<div>\n",
       "<style scoped>\n",
       "    .dataframe tbody tr th:only-of-type {\n",
       "        vertical-align: middle;\n",
       "    }\n",
       "\n",
       "    .dataframe tbody tr th {\n",
       "        vertical-align: top;\n",
       "    }\n",
       "\n",
       "    .dataframe thead th {\n",
       "        text-align: right;\n",
       "    }\n",
       "</style>\n",
       "<table border=\"1\" class=\"dataframe\">\n",
       "  <thead>\n",
       "    <tr style=\"text-align: right;\">\n",
       "      <th></th>\n",
       "      <th>created_utc</th>\n",
       "      <th>subreddit</th>\n",
       "      <th>title</th>\n",
       "    </tr>\n",
       "  </thead>\n",
       "  <tbody>\n",
       "    <tr>\n",
       "      <th>0</th>\n",
       "      <td>1635118883</td>\n",
       "      <td>news</td>\n",
       "      <td>Supporters of unvaccinated NBA star Kyrie Irvi...</td>\n",
       "    </tr>\n",
       "    <tr>\n",
       "      <th>1</th>\n",
       "      <td>1635118006</td>\n",
       "      <td>news</td>\n",
       "      <td>Body of missing 26-year-old Texas man found in...</td>\n",
       "    </tr>\n",
       "    <tr>\n",
       "      <th>2</th>\n",
       "      <td>1635116237</td>\n",
       "      <td>news</td>\n",
       "      <td>Two SF Prosecutors Quit &amp;amp; Join Effort to O...</td>\n",
       "    </tr>\n",
       "    <tr>\n",
       "      <th>3</th>\n",
       "      <td>1635115094</td>\n",
       "      <td>news</td>\n",
       "      <td>James Michael Tyler, who played Gunther in 'Fr...</td>\n",
       "    </tr>\n",
       "    <tr>\n",
       "      <th>4</th>\n",
       "      <td>1635114451</td>\n",
       "      <td>news</td>\n",
       "      <td>Plane from NY to LA makes emergency landing in...</td>\n",
       "    </tr>\n",
       "    <tr>\n",
       "      <th>...</th>\n",
       "      <td>...</td>\n",
       "      <td>...</td>\n",
       "      <td>...</td>\n",
       "    </tr>\n",
       "    <tr>\n",
       "      <th>2006</th>\n",
       "      <td>1633613759</td>\n",
       "      <td>news</td>\n",
       "      <td>Man laundered $1M from romance scheme that tar...</td>\n",
       "    </tr>\n",
       "    <tr>\n",
       "      <th>2007</th>\n",
       "      <td>1633613721</td>\n",
       "      <td>news</td>\n",
       "      <td>Florida lifts 30-year ban on catching goliath ...</td>\n",
       "    </tr>\n",
       "    <tr>\n",
       "      <th>2008</th>\n",
       "      <td>1633613692</td>\n",
       "      <td>news</td>\n",
       "      <td>After Keys deputies talk to injured woman, boy...</td>\n",
       "    </tr>\n",
       "    <tr>\n",
       "      <th>2009</th>\n",
       "      <td>1633613650</td>\n",
       "      <td>news</td>\n",
       "      <td>Dutch watchdog finds Apple app store payment r...</td>\n",
       "    </tr>\n",
       "    <tr>\n",
       "      <th>2010</th>\n",
       "      <td>1633612973</td>\n",
       "      <td>news</td>\n",
       "      <td>Riverside County Sheriff Chad Bianco acknowled...</td>\n",
       "    </tr>\n",
       "  </tbody>\n",
       "</table>\n",
       "<p>2011 rows × 3 columns</p>\n",
       "</div>"
      ],
      "text/plain": [
       "      created_utc subreddit                                              title\n",
       "0      1635118883      news  Supporters of unvaccinated NBA star Kyrie Irvi...\n",
       "1      1635118006      news  Body of missing 26-year-old Texas man found in...\n",
       "2      1635116237      news  Two SF Prosecutors Quit &amp; Join Effort to O...\n",
       "3      1635115094      news  James Michael Tyler, who played Gunther in 'Fr...\n",
       "4      1635114451      news  Plane from NY to LA makes emergency landing in...\n",
       "...           ...       ...                                                ...\n",
       "2006   1633613759      news  Man laundered $1M from romance scheme that tar...\n",
       "2007   1633613721      news  Florida lifts 30-year ban on catching goliath ...\n",
       "2008   1633613692      news  After Keys deputies talk to injured woman, boy...\n",
       "2009   1633613650      news  Dutch watchdog finds Apple app store payment r...\n",
       "2010   1633612973      news  Riverside County Sheriff Chad Bianco acknowled...\n",
       "\n",
       "[2011 rows x 3 columns]"
      ]
     },
     "execution_count": 4,
     "metadata": {},
     "output_type": "execute_result"
    }
   ],
   "source": [
    "#quick look at the loaded datasets\n",
    "news"
   ]
  },
  {
   "cell_type": "markdown",
   "id": "63460cdd",
   "metadata": {},
   "source": [
    "# Preprocessing"
   ]
  },
  {
   "cell_type": "markdown",
   "id": "694f753d",
   "metadata": {},
   "source": [
    "To map data from \"The Onion\" as 0 and data from \"News\" as 1."
   ]
  },
  {
   "cell_type": "code",
   "execution_count": 5,
   "id": "2d3bcc67",
   "metadata": {},
   "outputs": [
    {
     "data": {
      "text/plain": [
       "(2018, 4)"
      ]
     },
     "execution_count": 5,
     "metadata": {},
     "output_type": "execute_result"
    }
   ],
   "source": [
    "onion['label'] = 0\n",
    "onion.shape"
   ]
  },
  {
   "cell_type": "code",
   "execution_count": 6,
   "id": "48a56225",
   "metadata": {},
   "outputs": [
    {
     "data": {
      "text/plain": [
       "(2011, 4)"
      ]
     },
     "execution_count": 6,
     "metadata": {},
     "output_type": "execute_result"
    }
   ],
   "source": [
    "news['label'] = 1\n",
    "news.shape"
   ]
  },
  {
   "cell_type": "code",
   "execution_count": 7,
   "id": "36444287",
   "metadata": {},
   "outputs": [],
   "source": [
    "#as mentioned previously in the EDA, some non-english characters were found, since we are only interested in english words\n",
    "#we will only be looking at ascii characters\n",
    "onion['title'] = onion['title'].str.encode(\"ascii\", \"ignore\")\n",
    "news['title'] = news['title'].str.encode(\"ascii\", \"ignore\")"
   ]
  },
  {
   "cell_type": "code",
   "execution_count": 113,
   "id": "342ca549",
   "metadata": {},
   "outputs": [],
   "source": [
    "#combining both datasets\n",
    "df = pd.concat([onion, news], axis=0)"
   ]
  },
  {
   "cell_type": "code",
   "execution_count": 114,
   "id": "550ef27c",
   "metadata": {},
   "outputs": [
    {
     "data": {
      "text/html": [
       "<div>\n",
       "<style scoped>\n",
       "    .dataframe tbody tr th:only-of-type {\n",
       "        vertical-align: middle;\n",
       "    }\n",
       "\n",
       "    .dataframe tbody tr th {\n",
       "        vertical-align: top;\n",
       "    }\n",
       "\n",
       "    .dataframe thead th {\n",
       "        text-align: right;\n",
       "    }\n",
       "</style>\n",
       "<table border=\"1\" class=\"dataframe\">\n",
       "  <thead>\n",
       "    <tr style=\"text-align: right;\">\n",
       "      <th></th>\n",
       "      <th>created_utc</th>\n",
       "      <th>subreddit</th>\n",
       "      <th>title</th>\n",
       "      <th>label</th>\n",
       "    </tr>\n",
       "  </thead>\n",
       "  <tbody>\n",
       "    <tr>\n",
       "      <th>0</th>\n",
       "      <td>1635090051</td>\n",
       "      <td>TheOnion</td>\n",
       "      <td>b'Smithsonian Acquires Arms Of Kermit The Frog...</td>\n",
       "      <td>0</td>\n",
       "    </tr>\n",
       "    <tr>\n",
       "      <th>1</th>\n",
       "      <td>1634958726</td>\n",
       "      <td>TheOnion</td>\n",
       "      <td>b'Less Popular Friend Only Included In Suicide...</td>\n",
       "      <td>0</td>\n",
       "    </tr>\n",
       "    <tr>\n",
       "      <th>2</th>\n",
       "      <td>1634940672</td>\n",
       "      <td>TheOnion</td>\n",
       "      <td>b'Crypto-Averse Man Would Prefer Investing In ...</td>\n",
       "      <td>0</td>\n",
       "    </tr>\n",
       "    <tr>\n",
       "      <th>3</th>\n",
       "      <td>1634910709</td>\n",
       "      <td>TheOnion</td>\n",
       "      <td>b'God Loses Pouch Filled With Crystals That Gi...</td>\n",
       "      <td>0</td>\n",
       "    </tr>\n",
       "    <tr>\n",
       "      <th>4</th>\n",
       "      <td>1634872463</td>\n",
       "      <td>TheOnion</td>\n",
       "      <td>b'Retired NFL Player Touts Sports Betting App ...</td>\n",
       "      <td>0</td>\n",
       "    </tr>\n",
       "    <tr>\n",
       "      <th>...</th>\n",
       "      <td>...</td>\n",
       "      <td>...</td>\n",
       "      <td>...</td>\n",
       "      <td>...</td>\n",
       "    </tr>\n",
       "    <tr>\n",
       "      <th>2006</th>\n",
       "      <td>1633613759</td>\n",
       "      <td>news</td>\n",
       "      <td>b'Man laundered $1M from romance scheme that t...</td>\n",
       "      <td>1</td>\n",
       "    </tr>\n",
       "    <tr>\n",
       "      <th>2007</th>\n",
       "      <td>1633613721</td>\n",
       "      <td>news</td>\n",
       "      <td>b'Florida lifts 30-year ban on catching goliat...</td>\n",
       "      <td>1</td>\n",
       "    </tr>\n",
       "    <tr>\n",
       "      <th>2008</th>\n",
       "      <td>1633613692</td>\n",
       "      <td>news</td>\n",
       "      <td>b'After Keys deputies talk to injured woman, b...</td>\n",
       "      <td>1</td>\n",
       "    </tr>\n",
       "    <tr>\n",
       "      <th>2009</th>\n",
       "      <td>1633613650</td>\n",
       "      <td>news</td>\n",
       "      <td>b'Dutch watchdog finds Apple app store payment...</td>\n",
       "      <td>1</td>\n",
       "    </tr>\n",
       "    <tr>\n",
       "      <th>2010</th>\n",
       "      <td>1633612973</td>\n",
       "      <td>news</td>\n",
       "      <td>b'Riverside County Sheriff Chad Bianco acknowl...</td>\n",
       "      <td>1</td>\n",
       "    </tr>\n",
       "  </tbody>\n",
       "</table>\n",
       "<p>4029 rows × 4 columns</p>\n",
       "</div>"
      ],
      "text/plain": [
       "      created_utc subreddit  \\\n",
       "0      1635090051  TheOnion   \n",
       "1      1634958726  TheOnion   \n",
       "2      1634940672  TheOnion   \n",
       "3      1634910709  TheOnion   \n",
       "4      1634872463  TheOnion   \n",
       "...           ...       ...   \n",
       "2006   1633613759      news   \n",
       "2007   1633613721      news   \n",
       "2008   1633613692      news   \n",
       "2009   1633613650      news   \n",
       "2010   1633612973      news   \n",
       "\n",
       "                                                  title  label  \n",
       "0     b'Smithsonian Acquires Arms Of Kermit The Frog...      0  \n",
       "1     b'Less Popular Friend Only Included In Suicide...      0  \n",
       "2     b'Crypto-Averse Man Would Prefer Investing In ...      0  \n",
       "3     b'God Loses Pouch Filled With Crystals That Gi...      0  \n",
       "4     b'Retired NFL Player Touts Sports Betting App ...      0  \n",
       "...                                                 ...    ...  \n",
       "2006  b'Man laundered $1M from romance scheme that t...      1  \n",
       "2007  b'Florida lifts 30-year ban on catching goliat...      1  \n",
       "2008  b'After Keys deputies talk to injured woman, b...      1  \n",
       "2009  b'Dutch watchdog finds Apple app store payment...      1  \n",
       "2010  b'Riverside County Sheriff Chad Bianco acknowl...      1  \n",
       "\n",
       "[4029 rows x 4 columns]"
      ]
     },
     "execution_count": 114,
     "metadata": {},
     "output_type": "execute_result"
    }
   ],
   "source": [
    "#quick look at the loaded datasets\n",
    "df"
   ]
  },
  {
   "cell_type": "code",
   "execution_count": 115,
   "id": "287516fd",
   "metadata": {},
   "outputs": [],
   "source": [
    "#index reset for merged dataset as a quick look shows that the index was unchanged from before \n",
    "df.reset_index(inplace=True)\n",
    "\n",
    "#drop created_utc and old index as these will not be useful\n",
    "df.drop([\"index\", \"created_utc\"], axis=1, inplace=True)"
   ]
  },
  {
   "cell_type": "code",
   "execution_count": 116,
   "id": "7be19223",
   "metadata": {
    "scrolled": true
   },
   "outputs": [
    {
     "data": {
      "text/html": [
       "<div>\n",
       "<style scoped>\n",
       "    .dataframe tbody tr th:only-of-type {\n",
       "        vertical-align: middle;\n",
       "    }\n",
       "\n",
       "    .dataframe tbody tr th {\n",
       "        vertical-align: top;\n",
       "    }\n",
       "\n",
       "    .dataframe thead th {\n",
       "        text-align: right;\n",
       "    }\n",
       "</style>\n",
       "<table border=\"1\" class=\"dataframe\">\n",
       "  <thead>\n",
       "    <tr style=\"text-align: right;\">\n",
       "      <th></th>\n",
       "      <th>subreddit</th>\n",
       "      <th>title</th>\n",
       "      <th>label</th>\n",
       "    </tr>\n",
       "  </thead>\n",
       "  <tbody>\n",
       "    <tr>\n",
       "      <th>0</th>\n",
       "      <td>TheOnion</td>\n",
       "      <td>b'Smithsonian Acquires Arms Of Kermit The Frog...</td>\n",
       "      <td>0</td>\n",
       "    </tr>\n",
       "    <tr>\n",
       "      <th>1</th>\n",
       "      <td>TheOnion</td>\n",
       "      <td>b'Less Popular Friend Only Included In Suicide...</td>\n",
       "      <td>0</td>\n",
       "    </tr>\n",
       "    <tr>\n",
       "      <th>2</th>\n",
       "      <td>TheOnion</td>\n",
       "      <td>b'Crypto-Averse Man Would Prefer Investing In ...</td>\n",
       "      <td>0</td>\n",
       "    </tr>\n",
       "    <tr>\n",
       "      <th>3</th>\n",
       "      <td>TheOnion</td>\n",
       "      <td>b'God Loses Pouch Filled With Crystals That Gi...</td>\n",
       "      <td>0</td>\n",
       "    </tr>\n",
       "    <tr>\n",
       "      <th>4</th>\n",
       "      <td>TheOnion</td>\n",
       "      <td>b'Retired NFL Player Touts Sports Betting App ...</td>\n",
       "      <td>0</td>\n",
       "    </tr>\n",
       "    <tr>\n",
       "      <th>...</th>\n",
       "      <td>...</td>\n",
       "      <td>...</td>\n",
       "      <td>...</td>\n",
       "    </tr>\n",
       "    <tr>\n",
       "      <th>4024</th>\n",
       "      <td>news</td>\n",
       "      <td>b'Man laundered $1M from romance scheme that t...</td>\n",
       "      <td>1</td>\n",
       "    </tr>\n",
       "    <tr>\n",
       "      <th>4025</th>\n",
       "      <td>news</td>\n",
       "      <td>b'Florida lifts 30-year ban on catching goliat...</td>\n",
       "      <td>1</td>\n",
       "    </tr>\n",
       "    <tr>\n",
       "      <th>4026</th>\n",
       "      <td>news</td>\n",
       "      <td>b'After Keys deputies talk to injured woman, b...</td>\n",
       "      <td>1</td>\n",
       "    </tr>\n",
       "    <tr>\n",
       "      <th>4027</th>\n",
       "      <td>news</td>\n",
       "      <td>b'Dutch watchdog finds Apple app store payment...</td>\n",
       "      <td>1</td>\n",
       "    </tr>\n",
       "    <tr>\n",
       "      <th>4028</th>\n",
       "      <td>news</td>\n",
       "      <td>b'Riverside County Sheriff Chad Bianco acknowl...</td>\n",
       "      <td>1</td>\n",
       "    </tr>\n",
       "  </tbody>\n",
       "</table>\n",
       "<p>4029 rows × 3 columns</p>\n",
       "</div>"
      ],
      "text/plain": [
       "     subreddit                                              title  label\n",
       "0     TheOnion  b'Smithsonian Acquires Arms Of Kermit The Frog...      0\n",
       "1     TheOnion  b'Less Popular Friend Only Included In Suicide...      0\n",
       "2     TheOnion  b'Crypto-Averse Man Would Prefer Investing In ...      0\n",
       "3     TheOnion  b'God Loses Pouch Filled With Crystals That Gi...      0\n",
       "4     TheOnion  b'Retired NFL Player Touts Sports Betting App ...      0\n",
       "...        ...                                                ...    ...\n",
       "4024      news  b'Man laundered $1M from romance scheme that t...      1\n",
       "4025      news  b'Florida lifts 30-year ban on catching goliat...      1\n",
       "4026      news  b'After Keys deputies talk to injured woman, b...      1\n",
       "4027      news  b'Dutch watchdog finds Apple app store payment...      1\n",
       "4028      news  b'Riverside County Sheriff Chad Bianco acknowl...      1\n",
       "\n",
       "[4029 rows x 3 columns]"
      ]
     },
     "execution_count": 116,
     "metadata": {},
     "output_type": "execute_result"
    }
   ],
   "source": [
    "#check if index was change successfully\n",
    "df"
   ]
  },
  {
   "cell_type": "code",
   "execution_count": 12,
   "id": "0562c66b",
   "metadata": {},
   "outputs": [],
   "source": [
    "#defining X and y for train-test split\n",
    "X = df['title']\n",
    "y = df['label']"
   ]
  },
  {
   "cell_type": "code",
   "execution_count": 13,
   "id": "4160d3d8",
   "metadata": {},
   "outputs": [],
   "source": [
    "#spliting data into train and test sets for modeling\n",
    "X_train, X_test, y_train, y_test = train_test_split(X,\n",
    "                                                    y,\n",
    "                                                    test_size=0.3,\n",
    "                                                    stratify=y,\n",
    "                                                    random_state=42)"
   ]
  },
  {
   "cell_type": "code",
   "execution_count": 14,
   "id": "8961ec3f",
   "metadata": {},
   "outputs": [
    {
     "data": {
      "text/plain": [
       "637     b'Conservative Christian Deeply Offended At Ra...\n",
       "2202    b'Man charged with murder for fatal shooting o...\n",
       "3071    b'David Amess MP dies after being stabbed at c...\n",
       "948     b'A shocking new study that asked teen boys ab...\n",
       "2078    b'Interview| Social media has become a behavio...\n",
       "                              ...                        \n",
       "2041    b'3.6 magnitude earthquake rattles metro Los A...\n",
       "1890    b'CDC Warns Against Health Risks Of Flavored G...\n",
       "1726    b'Trump Admits 18 New States To Increase Compe...\n",
       "734     b'Ted Cruz Deeply Disturbed By Part Of Capitol...\n",
       "2159    b'Swedens royals follow Dutch and confirm same...\n",
       "Name: title, Length: 2820, dtype: object"
      ]
     },
     "execution_count": 14,
     "metadata": {},
     "output_type": "execute_result"
    }
   ],
   "source": [
    "#quick check for data split\n",
    "X_train"
   ]
  },
  {
   "cell_type": "code",
   "execution_count": 15,
   "id": "6af0a87b",
   "metadata": {},
   "outputs": [
    {
     "data": {
      "text/plain": [
       "637     0\n",
       "2202    1\n",
       "3071    1\n",
       "948     0\n",
       "2078    1\n",
       "       ..\n",
       "2041    1\n",
       "1890    0\n",
       "1726    0\n",
       "734     0\n",
       "2159    1\n",
       "Name: label, Length: 2820, dtype: int64"
      ]
     },
     "execution_count": 15,
     "metadata": {},
     "output_type": "execute_result"
    }
   ],
   "source": [
    "#quick check for data split\n",
    "y_train"
   ]
  },
  {
   "cell_type": "markdown",
   "id": "3c0498e9",
   "metadata": {},
   "source": [
    "As accuracy is of utmost importance since we're dealing with detecting fake news from only the titles, lemmatizing is chosen over stemming to process words."
   ]
  },
  {
   "cell_type": "code",
   "execution_count": 16,
   "id": "89822b5f",
   "metadata": {},
   "outputs": [],
   "source": [
    "#creating a function to remove punctuation and change letters to lowercase, then lemmatize the non-stopwords\n",
    "\n",
    "wn = nltk.WordNetLemmatizer()\n",
    "\n",
    "def clean_text(text):\n",
    "    text = \"\".join([word.lower() for word in text if word not in string.punctuation])\n",
    "    # \\W matches any non-word character (equivalent to [^a-zA-Z0-9_]). This does not include spaces i.e. \\s\n",
    "    # Add a + just in case there are 2 or more spaces between certain words\n",
    "    tokens = re.split('\\W+', text)\n",
    "    \n",
    "    # apply lemmatizing and stopwords exclusion within the same step\n",
    "    text = [wn.lemmatize(word) for word in tokens if word not in stopwords.words('english')]\n",
    "    return text"
   ]
  },
  {
   "cell_type": "code",
   "execution_count": 17,
   "id": "afbf65ce",
   "metadata": {},
   "outputs": [
    {
     "name": "stdout",
     "output_type": "stream",
     "text": [
      "(2820, 7692)\n",
      "(1209, 7692)\n"
     ]
    }
   ],
   "source": [
    "#creating an instance of Count Vectorizer and pass in the clean_text function as the analyzer parameter\n",
    "count_vect = CountVectorizer(analyzer=clean_text)\n",
    "\n",
    "#storing the count vectorized version of the data\n",
    "X_counts_train = count_vect.fit_transform(X_train)\n",
    "X_counts_test = count_vect.transform(X_test)\n",
    "\n",
    "#checking shape of data\n",
    "print(X_counts_train.shape)\n",
    "print(X_counts_test.shape)"
   ]
  },
  {
   "cell_type": "code",
   "execution_count": 18,
   "id": "c3bc7209",
   "metadata": {},
   "outputs": [
    {
     "name": "stdout",
     "output_type": "stream",
     "text": [
      "(2820, 7692)\n",
      "(1209, 7692)\n"
     ]
    }
   ],
   "source": [
    "#creating an instance of tf-idf Vectorizer to pass the clean_text function as the analyzer parameter\n",
    "tvec = TfidfVectorizer(analyzer=clean_text)\n",
    "\n",
    "#storing the tfidf vectorized version of the data\n",
    "X_tfidf_train = tvec.fit_transform(X_train)\n",
    "X_tfidf_test = tvec.transform(X_test)\n",
    "\n",
    "#checking shape of data\n",
    "print(X_tfidf_train.shape)\n",
    "print(X_tfidf_test.shape)"
   ]
  },
  {
   "cell_type": "markdown",
   "id": "c8024b7b",
   "metadata": {},
   "source": [
    "# Modeling"
   ]
  },
  {
   "cell_type": "markdown",
   "id": "eb61de7c",
   "metadata": {},
   "source": [
    "## Logistic Regression"
   ]
  },
  {
   "cell_type": "code",
   "execution_count": null,
   "id": "90cd305e",
   "metadata": {},
   "outputs": [],
   "source": [
    "lr = LogisticRegression(solver = 'lbfgs')"
   ]
  },
  {
   "cell_type": "markdown",
   "id": "ec1ea649",
   "metadata": {},
   "source": [
    "<b>Count Vectorizer</b>"
   ]
  },
  {
   "cell_type": "code",
   "execution_count": 19,
   "id": "5f878757",
   "metadata": {},
   "outputs": [
    {
     "data": {
      "text/plain": [
       "0.9929078014184397"
      ]
     },
     "execution_count": 19,
     "metadata": {},
     "output_type": "execute_result"
    }
   ],
   "source": [
    "#fit model to training data\n",
    "lr.fit(X_counts_train, y_train)\n",
    "\n",
    "#evaluate model on training data\n",
    "lr.score(X_counts_train, y_train)"
   ]
  },
  {
   "cell_type": "code",
   "execution_count": 20,
   "id": "ca7c57b1",
   "metadata": {},
   "outputs": [
    {
     "data": {
      "text/plain": [
       "0.8287841191066998"
      ]
     },
     "execution_count": 20,
     "metadata": {},
     "output_type": "execute_result"
    }
   ],
   "source": [
    "#evaluate model on test data\n",
    "lr.score(X_counts_test, y_test)"
   ]
  },
  {
   "cell_type": "code",
   "execution_count": 21,
   "id": "a2bbbbde",
   "metadata": {},
   "outputs": [
    {
     "data": {
      "text/plain": [
       "0.8241134751773049"
      ]
     },
     "execution_count": 21,
     "metadata": {},
     "output_type": "execute_result"
    }
   ],
   "source": [
    "#checking model on CV score for train data\n",
    "cross_val_score(lr, X_counts_train, y_train, cv=10).mean()"
   ]
  },
  {
   "cell_type": "code",
   "execution_count": 122,
   "id": "765f50e5",
   "metadata": {},
   "outputs": [
    {
     "data": {
      "text/plain": [
       "0.7882162534435262"
      ]
     },
     "execution_count": 122,
     "metadata": {},
     "output_type": "execute_result"
    }
   ],
   "source": [
    "#checking model on CV score for test data\n",
    "cross_val_score(lr, X_counts_test, y_test, cv=10).mean()"
   ]
  },
  {
   "cell_type": "markdown",
   "id": "8ad08a3f",
   "metadata": {},
   "source": [
    "<b>tf-idf Vectorizer</b>"
   ]
  },
  {
   "cell_type": "code",
   "execution_count": 25,
   "id": "a457de4d",
   "metadata": {},
   "outputs": [
    {
     "data": {
      "text/plain": [
       "0.9641843971631205"
      ]
     },
     "execution_count": 25,
     "metadata": {},
     "output_type": "execute_result"
    }
   ],
   "source": [
    "#fit model to training data\n",
    "lr.fit(X_tfidf_train, y_train)\n",
    "\n",
    "#evaluate model on train data\n",
    "lr.score(X_tfidf_train, y_train)"
   ]
  },
  {
   "cell_type": "code",
   "execution_count": 26,
   "id": "7cdf8aaf",
   "metadata": {},
   "outputs": [
    {
     "data": {
      "text/plain": [
       "0.8387096774193549"
      ]
     },
     "execution_count": 26,
     "metadata": {},
     "output_type": "execute_result"
    }
   ],
   "source": [
    "#evaluate model on test data\n",
    "lr.score(X_tfidf_test, y_test)"
   ]
  },
  {
   "cell_type": "code",
   "execution_count": 51,
   "id": "7da468c6",
   "metadata": {},
   "outputs": [
    {
     "data": {
      "text/plain": [
       "0.824468085106383"
      ]
     },
     "execution_count": 51,
     "metadata": {},
     "output_type": "execute_result"
    }
   ],
   "source": [
    "#checking model on CV score for train data\n",
    "cross_val_score(lr, X_tfidf_train, y_train, cv=10).mean()"
   ]
  },
  {
   "cell_type": "code",
   "execution_count": 28,
   "id": "85f4dc61",
   "metadata": {},
   "outputs": [
    {
     "data": {
      "text/plain": [
       "0.8039462809917355"
      ]
     },
     "execution_count": 28,
     "metadata": {},
     "output_type": "execute_result"
    }
   ],
   "source": [
    "#checking model on CV score for test data\n",
    "cross_val_score(lr, X_tfidf_test, y_test, cv=10).mean()"
   ]
  },
  {
   "cell_type": "markdown",
   "id": "df8b69ef",
   "metadata": {},
   "source": [
    "## Naive Bayes"
   ]
  },
  {
   "cell_type": "code",
   "execution_count": 32,
   "id": "a0f7fdf0",
   "metadata": {},
   "outputs": [],
   "source": [
    "from sklearn.naive_bayes import MultinomialNB\n",
    "\n",
    "#defining parameters for naive bayes\n",
    "nb = MultinomialNB(class_prior=[0.4,0.6])"
   ]
  },
  {
   "cell_type": "markdown",
   "id": "69310500",
   "metadata": {},
   "source": [
    "**Count Vectorizer**"
   ]
  },
  {
   "cell_type": "code",
   "execution_count": 33,
   "id": "a4f24b9d",
   "metadata": {},
   "outputs": [],
   "source": [
    "#fitting model to count vect train data\n",
    "modelcv = nb.fit(X_counts_train, y_train)"
   ]
  },
  {
   "cell_type": "code",
   "execution_count": 34,
   "id": "9e2428fd",
   "metadata": {},
   "outputs": [
    {
     "data": {
      "text/plain": [
       "0.9684397163120567"
      ]
     },
     "execution_count": 34,
     "metadata": {},
     "output_type": "execute_result"
    }
   ],
   "source": [
    "#evaluate model on train data\n",
    "nb.score(X_counts_train, y_train)"
   ]
  },
  {
   "cell_type": "code",
   "execution_count": 35,
   "id": "9096faa3",
   "metadata": {},
   "outputs": [
    {
     "data": {
      "text/plain": [
       "0.8287841191066998"
      ]
     },
     "execution_count": 35,
     "metadata": {},
     "output_type": "execute_result"
    }
   ],
   "source": [
    "#evaluate model on test data\n",
    "nb.score(X_counts_test,y_test)"
   ]
  },
  {
   "cell_type": "code",
   "execution_count": 118,
   "id": "0cd2fc26",
   "metadata": {},
   "outputs": [
    {
     "data": {
      "text/plain": [
       "0.827304964539007"
      ]
     },
     "execution_count": 118,
     "metadata": {},
     "output_type": "execute_result"
    }
   ],
   "source": [
    "#checking model on CV score for train data\n",
    "cross_val_score(nb, X_counts_train, y_train, cv=10).mean()"
   ]
  },
  {
   "cell_type": "code",
   "execution_count": 119,
   "id": "5c1a2e1d",
   "metadata": {},
   "outputs": [
    {
     "data": {
      "text/plain": [
       "0.7973278236914602"
      ]
     },
     "execution_count": 119,
     "metadata": {},
     "output_type": "execute_result"
    }
   ],
   "source": [
    "#checking model on CV score for test data\n",
    "cross_val_score(nb, X_counts_test, y_test, cv=10).mean()"
   ]
  },
  {
   "cell_type": "markdown",
   "id": "f86982eb",
   "metadata": {},
   "source": [
    "**tf-idf Vectorizer**"
   ]
  },
  {
   "cell_type": "code",
   "execution_count": 36,
   "id": "ce13061b",
   "metadata": {},
   "outputs": [],
   "source": [
    "#fitting model to tfidf vect train data\n",
    "modeltfidf = nb.fit(X_tfidf_train, y_train)"
   ]
  },
  {
   "cell_type": "code",
   "execution_count": 37,
   "id": "ca3dd71e",
   "metadata": {},
   "outputs": [
    {
     "data": {
      "text/plain": [
       "0.9372340425531915"
      ]
     },
     "execution_count": 37,
     "metadata": {},
     "output_type": "execute_result"
    }
   ],
   "source": [
    "#evaluate model on train data\n",
    "nb.score(X_tfidf_train, y_train)"
   ]
  },
  {
   "cell_type": "code",
   "execution_count": 38,
   "id": "a256c657",
   "metadata": {},
   "outputs": [
    {
     "data": {
      "text/plain": [
       "0.7932175351530191"
      ]
     },
     "execution_count": 38,
     "metadata": {},
     "output_type": "execute_result"
    }
   ],
   "source": [
    "#evaluate model on test data\n",
    "nb.score(X_tfidf_test,y_test)"
   ]
  },
  {
   "cell_type": "code",
   "execution_count": 120,
   "id": "0b09b949",
   "metadata": {},
   "outputs": [
    {
     "data": {
      "text/plain": [
       "0.7563829787234042"
      ]
     },
     "execution_count": 120,
     "metadata": {},
     "output_type": "execute_result"
    }
   ],
   "source": [
    "#checking model on CV score for train data\n",
    "cross_val_score(nb, X_tfidf_train, y_train, cv=10).mean()"
   ]
  },
  {
   "cell_type": "code",
   "execution_count": 121,
   "id": "df901f66",
   "metadata": {},
   "outputs": [
    {
     "data": {
      "text/plain": [
       "0.7245316804407713"
      ]
     },
     "execution_count": 121,
     "metadata": {},
     "output_type": "execute_result"
    }
   ],
   "source": [
    "#checking model on CV score for test data\n",
    "cross_val_score(nb, X_tfidf_test, y_test, cv=10).mean()"
   ]
  },
  {
   "cell_type": "code",
   "execution_count": 123,
   "id": "482f20e8",
   "metadata": {},
   "outputs": [
    {
     "data": {
      "text/html": [
       "<div>\n",
       "<style scoped>\n",
       "    .dataframe tbody tr th:only-of-type {\n",
       "        vertical-align: middle;\n",
       "    }\n",
       "\n",
       "    .dataframe tbody tr th {\n",
       "        vertical-align: top;\n",
       "    }\n",
       "\n",
       "    .dataframe thead th {\n",
       "        text-align: right;\n",
       "    }\n",
       "</style>\n",
       "<table border=\"1\" class=\"dataframe\">\n",
       "  <thead>\n",
       "    <tr style=\"text-align: right;\">\n",
       "      <th></th>\n",
       "      <th>CVec LR</th>\n",
       "      <th>TVec LR</th>\n",
       "      <th>CVec NB</th>\n",
       "      <th>TVec NB</th>\n",
       "    </tr>\n",
       "  </thead>\n",
       "  <tbody>\n",
       "    <tr>\n",
       "      <th>Train Score</th>\n",
       "      <td>0.993</td>\n",
       "      <td>0.964</td>\n",
       "      <td>0.968</td>\n",
       "      <td>0.937</td>\n",
       "    </tr>\n",
       "    <tr>\n",
       "      <th>Test Score</th>\n",
       "      <td>0.829</td>\n",
       "      <td>0.839</td>\n",
       "      <td>0.829</td>\n",
       "      <td>0.793</td>\n",
       "    </tr>\n",
       "    <tr>\n",
       "      <th>CV Train Score</th>\n",
       "      <td>0.824</td>\n",
       "      <td>0.824</td>\n",
       "      <td>0.827</td>\n",
       "      <td>0.756</td>\n",
       "    </tr>\n",
       "    <tr>\n",
       "      <th>CV Test Score</th>\n",
       "      <td>0.788</td>\n",
       "      <td>0.804</td>\n",
       "      <td>0.797</td>\n",
       "      <td>0.725</td>\n",
       "    </tr>\n",
       "  </tbody>\n",
       "</table>\n",
       "</div>"
      ],
      "text/plain": [
       "                CVec LR  TVec LR  CVec NB  TVec NB\n",
       "Train Score       0.993    0.964    0.968    0.937\n",
       "Test Score        0.829    0.839    0.829    0.793\n",
       "CV Train Score    0.824    0.824    0.827    0.756\n",
       "CV Test Score     0.788    0.804    0.797    0.725"
      ]
     },
     "execution_count": 123,
     "metadata": {},
     "output_type": "execute_result"
    }
   ],
   "source": [
    "#summarizing model results\n",
    "\n",
    "train_score = [0.993, 0.964, 0.968, 0.937]\n",
    "test_score = [0.829, 0.839, 0.829, 0.793]\n",
    "train_cv_score = [0.824, 0.824, 0.827, 0.756]\n",
    "test_cv_score = [0.788, 0.804, 0.797, 0.725]\n",
    "Evaluation = pd.DataFrame([train_score, test_score, train_cv_score, test_cv_score],\n",
    "                          columns=['CVec LR', 'TVec LR', 'CVec NB', 'TVec NB'], \n",
    "                          index=['Train Score', 'Test Score', 'CV Train Score', 'CV Test Score'])\n",
    "Evaluation"
   ]
  },
  {
   "cell_type": "markdown",
   "id": "cceb8a9a",
   "metadata": {},
   "source": [
    "All 4 models produced fairly similar decent results, with only tf-idf naive bayes falling slightly below 0.8 for test score. As tf-idf logistic regression has the highest test and CV test scores, we will attempt to optimise the model for better results."
   ]
  },
  {
   "cell_type": "markdown",
   "id": "c37a091b",
   "metadata": {},
   "source": [
    "# GridSearch"
   ]
  },
  {
   "cell_type": "code",
   "execution_count": 40,
   "id": "782cf3e8",
   "metadata": {},
   "outputs": [],
   "source": [
    "#loading in pipe\n",
    "pipe = Pipeline([\n",
    "    ('tvec', TfidfVectorizer(analyzer=clean_text)),\n",
    "    ('lr', LogisticRegression())])"
   ]
  },
  {
   "cell_type": "code",
   "execution_count": 41,
   "id": "811353b5",
   "metadata": {},
   "outputs": [
    {
     "data": {
      "text/plain": [
       "0.8262411347517731"
      ]
     },
     "execution_count": 41,
     "metadata": {},
     "output_type": "execute_result"
    }
   ],
   "source": [
    "#checking cross val score for pipe default\n",
    "cross_val_score(pipe, X_train, y_train, cv=10).mean()"
   ]
  },
  {
   "cell_type": "code",
   "execution_count": 42,
   "id": "6ab4577b",
   "metadata": {},
   "outputs": [],
   "source": [
    "#defining pipe parameters\n",
    "pipe_params = {\n",
    "    'tvec__max_features': [7500,10000, None],\n",
    "    'tvec__min_df' : [1,2],\n",
    "    'tvec__max_df': [0.85, 0.9, 0.95, 1],\n",
    "    'tvec__ngram_range': [(1,1),(1,2)]}"
   ]
  },
  {
   "cell_type": "code",
   "execution_count": 46,
   "id": "26dd5d03",
   "metadata": {},
   "outputs": [],
   "source": [
    "#defining gridsearch parameters. cv=3 was chosen as higher values took too long to run \n",
    "gs = GridSearchCV(pipe, \n",
    "                  pipe_params, \n",
    "                  cv=3, verbose=2, n_jobs=1) "
   ]
  },
  {
   "cell_type": "code",
   "execution_count": 47,
   "id": "7ec30562",
   "metadata": {
    "scrolled": true
   },
   "outputs": [
    {
     "name": "stdout",
     "output_type": "stream",
     "text": [
      "Fitting 3 folds for each of 48 candidates, totalling 144 fits\n",
      "[CV] END tvec__max_df=0.85, tvec__max_features=7500, tvec__min_df=1, tvec__ngram_range=(1, 1); total time=   8.6s\n",
      "[CV] END tvec__max_df=0.85, tvec__max_features=7500, tvec__min_df=1, tvec__ngram_range=(1, 1); total time=   8.6s\n",
      "[CV] END tvec__max_df=0.85, tvec__max_features=7500, tvec__min_df=1, tvec__ngram_range=(1, 1); total time=   8.7s\n",
      "[CV] END tvec__max_df=0.85, tvec__max_features=7500, tvec__min_df=1, tvec__ngram_range=(1, 2); total time=   8.7s\n",
      "[CV] END tvec__max_df=0.85, tvec__max_features=7500, tvec__min_df=1, tvec__ngram_range=(1, 2); total time=   8.6s\n",
      "[CV] END tvec__max_df=0.85, tvec__max_features=7500, tvec__min_df=1, tvec__ngram_range=(1, 2); total time=   8.6s\n",
      "[CV] END tvec__max_df=0.85, tvec__max_features=7500, tvec__min_df=2, tvec__ngram_range=(1, 1); total time=   8.5s\n",
      "[CV] END tvec__max_df=0.85, tvec__max_features=7500, tvec__min_df=2, tvec__ngram_range=(1, 1); total time=   8.4s\n",
      "[CV] END tvec__max_df=0.85, tvec__max_features=7500, tvec__min_df=2, tvec__ngram_range=(1, 1); total time=   8.6s\n",
      "[CV] END tvec__max_df=0.85, tvec__max_features=7500, tvec__min_df=2, tvec__ngram_range=(1, 2); total time=   8.5s\n",
      "[CV] END tvec__max_df=0.85, tvec__max_features=7500, tvec__min_df=2, tvec__ngram_range=(1, 2); total time=   8.7s\n",
      "[CV] END tvec__max_df=0.85, tvec__max_features=7500, tvec__min_df=2, tvec__ngram_range=(1, 2); total time=   8.6s\n",
      "[CV] END tvec__max_df=0.85, tvec__max_features=10000, tvec__min_df=1, tvec__ngram_range=(1, 1); total time=   8.4s\n",
      "[CV] END tvec__max_df=0.85, tvec__max_features=10000, tvec__min_df=1, tvec__ngram_range=(1, 1); total time=   8.5s\n",
      "[CV] END tvec__max_df=0.85, tvec__max_features=10000, tvec__min_df=1, tvec__ngram_range=(1, 1); total time=   8.5s\n",
      "[CV] END tvec__max_df=0.85, tvec__max_features=10000, tvec__min_df=1, tvec__ngram_range=(1, 2); total time=   8.6s\n",
      "[CV] END tvec__max_df=0.85, tvec__max_features=10000, tvec__min_df=1, tvec__ngram_range=(1, 2); total time=   8.6s\n",
      "[CV] END tvec__max_df=0.85, tvec__max_features=10000, tvec__min_df=1, tvec__ngram_range=(1, 2); total time=   8.5s\n",
      "[CV] END tvec__max_df=0.85, tvec__max_features=10000, tvec__min_df=2, tvec__ngram_range=(1, 1); total time=   8.4s\n",
      "[CV] END tvec__max_df=0.85, tvec__max_features=10000, tvec__min_df=2, tvec__ngram_range=(1, 1); total time=   8.4s\n",
      "[CV] END tvec__max_df=0.85, tvec__max_features=10000, tvec__min_df=2, tvec__ngram_range=(1, 1); total time=   8.5s\n",
      "[CV] END tvec__max_df=0.85, tvec__max_features=10000, tvec__min_df=2, tvec__ngram_range=(1, 2); total time=   8.4s\n",
      "[CV] END tvec__max_df=0.85, tvec__max_features=10000, tvec__min_df=2, tvec__ngram_range=(1, 2); total time=   8.5s\n",
      "[CV] END tvec__max_df=0.85, tvec__max_features=10000, tvec__min_df=2, tvec__ngram_range=(1, 2); total time=   8.5s\n",
      "[CV] END tvec__max_df=0.85, tvec__max_features=None, tvec__min_df=1, tvec__ngram_range=(1, 1); total time=   8.5s\n",
      "[CV] END tvec__max_df=0.85, tvec__max_features=None, tvec__min_df=1, tvec__ngram_range=(1, 1); total time=   8.5s\n",
      "[CV] END tvec__max_df=0.85, tvec__max_features=None, tvec__min_df=1, tvec__ngram_range=(1, 1); total time=   8.6s\n",
      "[CV] END tvec__max_df=0.85, tvec__max_features=None, tvec__min_df=1, tvec__ngram_range=(1, 2); total time=   8.5s\n",
      "[CV] END tvec__max_df=0.85, tvec__max_features=None, tvec__min_df=1, tvec__ngram_range=(1, 2); total time=   8.5s\n",
      "[CV] END tvec__max_df=0.85, tvec__max_features=None, tvec__min_df=1, tvec__ngram_range=(1, 2); total time=   8.5s\n",
      "[CV] END tvec__max_df=0.85, tvec__max_features=None, tvec__min_df=2, tvec__ngram_range=(1, 1); total time=   8.5s\n",
      "[CV] END tvec__max_df=0.85, tvec__max_features=None, tvec__min_df=2, tvec__ngram_range=(1, 1); total time=   8.8s\n",
      "[CV] END tvec__max_df=0.85, tvec__max_features=None, tvec__min_df=2, tvec__ngram_range=(1, 1); total time=   8.8s\n",
      "[CV] END tvec__max_df=0.85, tvec__max_features=None, tvec__min_df=2, tvec__ngram_range=(1, 2); total time=   8.5s\n",
      "[CV] END tvec__max_df=0.85, tvec__max_features=None, tvec__min_df=2, tvec__ngram_range=(1, 2); total time=   8.6s\n",
      "[CV] END tvec__max_df=0.85, tvec__max_features=None, tvec__min_df=2, tvec__ngram_range=(1, 2); total time=   8.6s\n",
      "[CV] END tvec__max_df=0.9, tvec__max_features=7500, tvec__min_df=1, tvec__ngram_range=(1, 1); total time=   8.6s\n",
      "[CV] END tvec__max_df=0.9, tvec__max_features=7500, tvec__min_df=1, tvec__ngram_range=(1, 1); total time=   8.5s\n",
      "[CV] END tvec__max_df=0.9, tvec__max_features=7500, tvec__min_df=1, tvec__ngram_range=(1, 1); total time=   8.5s\n",
      "[CV] END tvec__max_df=0.9, tvec__max_features=7500, tvec__min_df=1, tvec__ngram_range=(1, 2); total time=   8.5s\n",
      "[CV] END tvec__max_df=0.9, tvec__max_features=7500, tvec__min_df=1, tvec__ngram_range=(1, 2); total time=   8.4s\n",
      "[CV] END tvec__max_df=0.9, tvec__max_features=7500, tvec__min_df=1, tvec__ngram_range=(1, 2); total time=   8.5s\n",
      "[CV] END tvec__max_df=0.9, tvec__max_features=7500, tvec__min_df=2, tvec__ngram_range=(1, 1); total time=   8.5s\n",
      "[CV] END tvec__max_df=0.9, tvec__max_features=7500, tvec__min_df=2, tvec__ngram_range=(1, 1); total time=   8.6s\n",
      "[CV] END tvec__max_df=0.9, tvec__max_features=7500, tvec__min_df=2, tvec__ngram_range=(1, 1); total time=   8.4s\n",
      "[CV] END tvec__max_df=0.9, tvec__max_features=7500, tvec__min_df=2, tvec__ngram_range=(1, 2); total time=   8.4s\n",
      "[CV] END tvec__max_df=0.9, tvec__max_features=7500, tvec__min_df=2, tvec__ngram_range=(1, 2); total time=   8.4s\n",
      "[CV] END tvec__max_df=0.9, tvec__max_features=7500, tvec__min_df=2, tvec__ngram_range=(1, 2); total time=   8.5s\n",
      "[CV] END tvec__max_df=0.9, tvec__max_features=10000, tvec__min_df=1, tvec__ngram_range=(1, 1); total time=   8.6s\n",
      "[CV] END tvec__max_df=0.9, tvec__max_features=10000, tvec__min_df=1, tvec__ngram_range=(1, 1); total time=   8.6s\n",
      "[CV] END tvec__max_df=0.9, tvec__max_features=10000, tvec__min_df=1, tvec__ngram_range=(1, 1); total time=   8.6s\n",
      "[CV] END tvec__max_df=0.9, tvec__max_features=10000, tvec__min_df=1, tvec__ngram_range=(1, 2); total time=   8.6s\n",
      "[CV] END tvec__max_df=0.9, tvec__max_features=10000, tvec__min_df=1, tvec__ngram_range=(1, 2); total time=   8.7s\n",
      "[CV] END tvec__max_df=0.9, tvec__max_features=10000, tvec__min_df=1, tvec__ngram_range=(1, 2); total time=   8.7s\n",
      "[CV] END tvec__max_df=0.9, tvec__max_features=10000, tvec__min_df=2, tvec__ngram_range=(1, 1); total time=   8.6s\n",
      "[CV] END tvec__max_df=0.9, tvec__max_features=10000, tvec__min_df=2, tvec__ngram_range=(1, 1); total time=   8.6s\n",
      "[CV] END tvec__max_df=0.9, tvec__max_features=10000, tvec__min_df=2, tvec__ngram_range=(1, 1); total time=   8.6s\n",
      "[CV] END tvec__max_df=0.9, tvec__max_features=10000, tvec__min_df=2, tvec__ngram_range=(1, 2); total time=   8.6s\n",
      "[CV] END tvec__max_df=0.9, tvec__max_features=10000, tvec__min_df=2, tvec__ngram_range=(1, 2); total time=   8.5s\n",
      "[CV] END tvec__max_df=0.9, tvec__max_features=10000, tvec__min_df=2, tvec__ngram_range=(1, 2); total time=   8.6s\n",
      "[CV] END tvec__max_df=0.9, tvec__max_features=None, tvec__min_df=1, tvec__ngram_range=(1, 1); total time=   8.6s\n",
      "[CV] END tvec__max_df=0.9, tvec__max_features=None, tvec__min_df=1, tvec__ngram_range=(1, 1); total time=   8.5s\n",
      "[CV] END tvec__max_df=0.9, tvec__max_features=None, tvec__min_df=1, tvec__ngram_range=(1, 1); total time=   8.6s\n",
      "[CV] END tvec__max_df=0.9, tvec__max_features=None, tvec__min_df=1, tvec__ngram_range=(1, 2); total time=   8.6s\n",
      "[CV] END tvec__max_df=0.9, tvec__max_features=None, tvec__min_df=1, tvec__ngram_range=(1, 2); total time=   8.7s\n",
      "[CV] END tvec__max_df=0.9, tvec__max_features=None, tvec__min_df=1, tvec__ngram_range=(1, 2); total time=   8.5s\n",
      "[CV] END tvec__max_df=0.9, tvec__max_features=None, tvec__min_df=2, tvec__ngram_range=(1, 1); total time=   8.5s\n",
      "[CV] END tvec__max_df=0.9, tvec__max_features=None, tvec__min_df=2, tvec__ngram_range=(1, 1); total time=   8.5s\n",
      "[CV] END tvec__max_df=0.9, tvec__max_features=None, tvec__min_df=2, tvec__ngram_range=(1, 1); total time=   8.5s\n",
      "[CV] END tvec__max_df=0.9, tvec__max_features=None, tvec__min_df=2, tvec__ngram_range=(1, 2); total time=   8.5s\n",
      "[CV] END tvec__max_df=0.9, tvec__max_features=None, tvec__min_df=2, tvec__ngram_range=(1, 2); total time=   8.5s\n",
      "[CV] END tvec__max_df=0.9, tvec__max_features=None, tvec__min_df=2, tvec__ngram_range=(1, 2); total time=   8.4s\n"
     ]
    },
    {
     "name": "stdout",
     "output_type": "stream",
     "text": [
      "[CV] END tvec__max_df=0.95, tvec__max_features=7500, tvec__min_df=1, tvec__ngram_range=(1, 1); total time=   8.5s\n",
      "[CV] END tvec__max_df=0.95, tvec__max_features=7500, tvec__min_df=1, tvec__ngram_range=(1, 1); total time=   8.4s\n",
      "[CV] END tvec__max_df=0.95, tvec__max_features=7500, tvec__min_df=1, tvec__ngram_range=(1, 1); total time=   8.7s\n",
      "[CV] END tvec__max_df=0.95, tvec__max_features=7500, tvec__min_df=1, tvec__ngram_range=(1, 2); total time=   8.5s\n",
      "[CV] END tvec__max_df=0.95, tvec__max_features=7500, tvec__min_df=1, tvec__ngram_range=(1, 2); total time=   8.7s\n",
      "[CV] END tvec__max_df=0.95, tvec__max_features=7500, tvec__min_df=1, tvec__ngram_range=(1, 2); total time=   8.7s\n",
      "[CV] END tvec__max_df=0.95, tvec__max_features=7500, tvec__min_df=2, tvec__ngram_range=(1, 1); total time=   8.5s\n",
      "[CV] END tvec__max_df=0.95, tvec__max_features=7500, tvec__min_df=2, tvec__ngram_range=(1, 1); total time=   8.5s\n",
      "[CV] END tvec__max_df=0.95, tvec__max_features=7500, tvec__min_df=2, tvec__ngram_range=(1, 1); total time=   8.6s\n",
      "[CV] END tvec__max_df=0.95, tvec__max_features=7500, tvec__min_df=2, tvec__ngram_range=(1, 2); total time=   8.5s\n",
      "[CV] END tvec__max_df=0.95, tvec__max_features=7500, tvec__min_df=2, tvec__ngram_range=(1, 2); total time=   8.4s\n",
      "[CV] END tvec__max_df=0.95, tvec__max_features=7500, tvec__min_df=2, tvec__ngram_range=(1, 2); total time=   8.4s\n",
      "[CV] END tvec__max_df=0.95, tvec__max_features=10000, tvec__min_df=1, tvec__ngram_range=(1, 1); total time=   8.4s\n",
      "[CV] END tvec__max_df=0.95, tvec__max_features=10000, tvec__min_df=1, tvec__ngram_range=(1, 1); total time=   8.5s\n",
      "[CV] END tvec__max_df=0.95, tvec__max_features=10000, tvec__min_df=1, tvec__ngram_range=(1, 1); total time=   8.5s\n",
      "[CV] END tvec__max_df=0.95, tvec__max_features=10000, tvec__min_df=1, tvec__ngram_range=(1, 2); total time=   8.5s\n",
      "[CV] END tvec__max_df=0.95, tvec__max_features=10000, tvec__min_df=1, tvec__ngram_range=(1, 2); total time=   8.5s\n",
      "[CV] END tvec__max_df=0.95, tvec__max_features=10000, tvec__min_df=1, tvec__ngram_range=(1, 2); total time=   8.7s\n",
      "[CV] END tvec__max_df=0.95, tvec__max_features=10000, tvec__min_df=2, tvec__ngram_range=(1, 1); total time=   8.6s\n",
      "[CV] END tvec__max_df=0.95, tvec__max_features=10000, tvec__min_df=2, tvec__ngram_range=(1, 1); total time=   8.5s\n",
      "[CV] END tvec__max_df=0.95, tvec__max_features=10000, tvec__min_df=2, tvec__ngram_range=(1, 1); total time=   8.5s\n",
      "[CV] END tvec__max_df=0.95, tvec__max_features=10000, tvec__min_df=2, tvec__ngram_range=(1, 2); total time=   8.4s\n",
      "[CV] END tvec__max_df=0.95, tvec__max_features=10000, tvec__min_df=2, tvec__ngram_range=(1, 2); total time=   8.5s\n",
      "[CV] END tvec__max_df=0.95, tvec__max_features=10000, tvec__min_df=2, tvec__ngram_range=(1, 2); total time=   8.4s\n",
      "[CV] END tvec__max_df=0.95, tvec__max_features=None, tvec__min_df=1, tvec__ngram_range=(1, 1); total time=   8.6s\n",
      "[CV] END tvec__max_df=0.95, tvec__max_features=None, tvec__min_df=1, tvec__ngram_range=(1, 1); total time=   8.7s\n",
      "[CV] END tvec__max_df=0.95, tvec__max_features=None, tvec__min_df=1, tvec__ngram_range=(1, 1); total time=   8.6s\n",
      "[CV] END tvec__max_df=0.95, tvec__max_features=None, tvec__min_df=1, tvec__ngram_range=(1, 2); total time=   8.7s\n",
      "[CV] END tvec__max_df=0.95, tvec__max_features=None, tvec__min_df=1, tvec__ngram_range=(1, 2); total time=   9.6s\n",
      "[CV] END tvec__max_df=0.95, tvec__max_features=None, tvec__min_df=1, tvec__ngram_range=(1, 2); total time=   9.1s\n",
      "[CV] END tvec__max_df=0.95, tvec__max_features=None, tvec__min_df=2, tvec__ngram_range=(1, 1); total time=   8.9s\n",
      "[CV] END tvec__max_df=0.95, tvec__max_features=None, tvec__min_df=2, tvec__ngram_range=(1, 1); total time=   9.1s\n",
      "[CV] END tvec__max_df=0.95, tvec__max_features=None, tvec__min_df=2, tvec__ngram_range=(1, 1); total time=   9.0s\n",
      "[CV] END tvec__max_df=0.95, tvec__max_features=None, tvec__min_df=2, tvec__ngram_range=(1, 2); total time=   9.0s\n",
      "[CV] END tvec__max_df=0.95, tvec__max_features=None, tvec__min_df=2, tvec__ngram_range=(1, 2); total time=   8.9s\n",
      "[CV] END tvec__max_df=0.95, tvec__max_features=None, tvec__min_df=2, tvec__ngram_range=(1, 2); total time=   9.0s\n",
      "[CV] END tvec__max_df=1, tvec__max_features=7500, tvec__min_df=1, tvec__ngram_range=(1, 1); total time=   9.2s\n",
      "[CV] END tvec__max_df=1, tvec__max_features=7500, tvec__min_df=1, tvec__ngram_range=(1, 1); total time=   9.0s\n",
      "[CV] END tvec__max_df=1, tvec__max_features=7500, tvec__min_df=1, tvec__ngram_range=(1, 1); total time=   8.8s\n",
      "[CV] END tvec__max_df=1, tvec__max_features=7500, tvec__min_df=1, tvec__ngram_range=(1, 2); total time=   8.4s\n",
      "[CV] END tvec__max_df=1, tvec__max_features=7500, tvec__min_df=1, tvec__ngram_range=(1, 2); total time=   8.4s\n",
      "[CV] END tvec__max_df=1, tvec__max_features=7500, tvec__min_df=1, tvec__ngram_range=(1, 2); total time=   8.5s\n",
      "[CV] END tvec__max_df=1, tvec__max_features=7500, tvec__min_df=2, tvec__ngram_range=(1, 1); total time=   5.6s\n",
      "[CV] END tvec__max_df=1, tvec__max_features=7500, tvec__min_df=2, tvec__ngram_range=(1, 1); total time=   5.7s\n",
      "[CV] END tvec__max_df=1, tvec__max_features=7500, tvec__min_df=2, tvec__ngram_range=(1, 1); total time=   5.6s\n",
      "[CV] END tvec__max_df=1, tvec__max_features=7500, tvec__min_df=2, tvec__ngram_range=(1, 2); total time=   5.6s\n",
      "[CV] END tvec__max_df=1, tvec__max_features=7500, tvec__min_df=2, tvec__ngram_range=(1, 2); total time=   5.6s\n",
      "[CV] END tvec__max_df=1, tvec__max_features=7500, tvec__min_df=2, tvec__ngram_range=(1, 2); total time=   5.7s\n",
      "[CV] END tvec__max_df=1, tvec__max_features=10000, tvec__min_df=1, tvec__ngram_range=(1, 1); total time=   8.5s\n",
      "[CV] END tvec__max_df=1, tvec__max_features=10000, tvec__min_df=1, tvec__ngram_range=(1, 1); total time=   8.4s\n",
      "[CV] END tvec__max_df=1, tvec__max_features=10000, tvec__min_df=1, tvec__ngram_range=(1, 1); total time=   8.5s\n",
      "[CV] END tvec__max_df=1, tvec__max_features=10000, tvec__min_df=1, tvec__ngram_range=(1, 2); total time=   8.6s\n",
      "[CV] END tvec__max_df=1, tvec__max_features=10000, tvec__min_df=1, tvec__ngram_range=(1, 2); total time=   8.6s\n",
      "[CV] END tvec__max_df=1, tvec__max_features=10000, tvec__min_df=1, tvec__ngram_range=(1, 2); total time=   8.5s\n",
      "[CV] END tvec__max_df=1, tvec__max_features=10000, tvec__min_df=2, tvec__ngram_range=(1, 1); total time=   5.6s\n",
      "[CV] END tvec__max_df=1, tvec__max_features=10000, tvec__min_df=2, tvec__ngram_range=(1, 1); total time=   5.6s\n",
      "[CV] END tvec__max_df=1, tvec__max_features=10000, tvec__min_df=2, tvec__ngram_range=(1, 1); total time=   5.6s\n",
      "[CV] END tvec__max_df=1, tvec__max_features=10000, tvec__min_df=2, tvec__ngram_range=(1, 2); total time=   5.6s\n",
      "[CV] END tvec__max_df=1, tvec__max_features=10000, tvec__min_df=2, tvec__ngram_range=(1, 2); total time=   5.6s\n",
      "[CV] END tvec__max_df=1, tvec__max_features=10000, tvec__min_df=2, tvec__ngram_range=(1, 2); total time=   5.6s\n",
      "[CV] END tvec__max_df=1, tvec__max_features=None, tvec__min_df=1, tvec__ngram_range=(1, 1); total time=   8.4s\n",
      "[CV] END tvec__max_df=1, tvec__max_features=None, tvec__min_df=1, tvec__ngram_range=(1, 1); total time=   8.4s\n",
      "[CV] END tvec__max_df=1, tvec__max_features=None, tvec__min_df=1, tvec__ngram_range=(1, 1); total time=   8.5s\n",
      "[CV] END tvec__max_df=1, tvec__max_features=None, tvec__min_df=1, tvec__ngram_range=(1, 2); total time=   8.4s\n",
      "[CV] END tvec__max_df=1, tvec__max_features=None, tvec__min_df=1, tvec__ngram_range=(1, 2); total time=   8.4s\n",
      "[CV] END tvec__max_df=1, tvec__max_features=None, tvec__min_df=1, tvec__ngram_range=(1, 2); total time=   8.5s\n",
      "[CV] END tvec__max_df=1, tvec__max_features=None, tvec__min_df=2, tvec__ngram_range=(1, 1); total time=   5.6s\n",
      "[CV] END tvec__max_df=1, tvec__max_features=None, tvec__min_df=2, tvec__ngram_range=(1, 1); total time=   5.8s\n",
      "[CV] END tvec__max_df=1, tvec__max_features=None, tvec__min_df=2, tvec__ngram_range=(1, 1); total time=   5.7s\n",
      "[CV] END tvec__max_df=1, tvec__max_features=None, tvec__min_df=2, tvec__ngram_range=(1, 2); total time=   5.9s\n",
      "[CV] END tvec__max_df=1, tvec__max_features=None, tvec__min_df=2, tvec__ngram_range=(1, 2); total time=   5.8s\n",
      "[CV] END tvec__max_df=1, tvec__max_features=None, tvec__min_df=2, tvec__ngram_range=(1, 2); total time=   5.9s\n"
     ]
    },
    {
     "data": {
      "text/plain": [
       "GridSearchCV(cv=3,\n",
       "             estimator=Pipeline(steps=[('tvec',\n",
       "                                        TfidfVectorizer(analyzer=<function clean_text at 0x00000131D7102CA0>)),\n",
       "                                       ('lr', LogisticRegression())]),\n",
       "             n_jobs=1,\n",
       "             param_grid={'tvec__max_df': [0.85, 0.9, 0.95, 1],\n",
       "                         'tvec__max_features': [7500, 10000, None],\n",
       "                         'tvec__min_df': [1, 2],\n",
       "                         'tvec__ngram_range': [(1, 1), (1, 2)]},\n",
       "             verbose=2)"
      ]
     },
     "execution_count": 47,
     "metadata": {},
     "output_type": "execute_result"
    }
   ],
   "source": [
    "#fitting gridsearch to the data\n",
    "gs.fit(X_train, y_train)"
   ]
  },
  {
   "cell_type": "code",
   "execution_count": 53,
   "id": "47f5a804",
   "metadata": {},
   "outputs": [
    {
     "data": {
      "text/plain": [
       "{'tvec__max_df': 0.85,\n",
       " 'tvec__max_features': 7500,\n",
       " 'tvec__min_df': 1,\n",
       " 'tvec__ngram_range': (1, 1)}"
      ]
     },
     "execution_count": 53,
     "metadata": {},
     "output_type": "execute_result"
    }
   ],
   "source": [
    "#quick look at gridsearch CV theorized best parameters\n",
    "gs.best_params_"
   ]
  },
  {
   "cell_type": "code",
   "execution_count": 54,
   "id": "b6551fdc",
   "metadata": {},
   "outputs": [
    {
     "data": {
      "text/plain": [
       "Pipeline(steps=[('tvec',\n",
       "                 TfidfVectorizer(analyzer=<function clean_text at 0x00000131D7102CA0>,\n",
       "                                 max_df=0.85, max_features=7500)),\n",
       "                ('lr', LogisticRegression())])"
      ]
     },
     "execution_count": 54,
     "metadata": {},
     "output_type": "execute_result"
    }
   ],
   "source": [
    "#applying gridsearch results\n",
    "gs_model_lr = gs.best_estimator_\n",
    "gs_model_lr"
   ]
  },
  {
   "cell_type": "code",
   "execution_count": 131,
   "id": "137792b3",
   "metadata": {},
   "outputs": [
    {
     "data": {
      "text/plain": [
       "0.9638297872340426"
      ]
     },
     "execution_count": 131,
     "metadata": {},
     "output_type": "execute_result"
    }
   ],
   "source": [
    "#gridsearch results train score\n",
    "gs_model_lr.score(X_train, y_train)"
   ]
  },
  {
   "cell_type": "code",
   "execution_count": 132,
   "id": "12201887",
   "metadata": {},
   "outputs": [
    {
     "data": {
      "text/plain": [
       "0.837055417700579"
      ]
     },
     "execution_count": 132,
     "metadata": {},
     "output_type": "execute_result"
    }
   ],
   "source": [
    "#gridsearch results test score\n",
    "gs_model_lr.score(X_test, y_test)"
   ]
  },
  {
   "cell_type": "code",
   "execution_count": 56,
   "id": "480dc24c",
   "metadata": {},
   "outputs": [
    {
     "data": {
      "text/plain": [
       "0.8262411347517731"
      ]
     },
     "execution_count": 56,
     "metadata": {},
     "output_type": "execute_result"
    }
   ],
   "source": [
    "#gridsearch results cross val score\n",
    "cross_val_score(gs_model_lr, X_train, y_train, cv=10).mean()"
   ]
  },
  {
   "cell_type": "markdown",
   "id": "0b61e000",
   "metadata": {},
   "source": [
    "GridSearch optimising only increased the CV score but did not seem to help with train or test scores. Will stick with default tf-idf Logistic Regression for further evaluation."
   ]
  },
  {
   "cell_type": "markdown",
   "id": "71b9d622",
   "metadata": {},
   "source": [
    "# ROC curve"
   ]
  },
  {
   "cell_type": "code",
   "execution_count": 63,
   "id": "e12e3973",
   "metadata": {},
   "outputs": [],
   "source": [
    "#test predictions based on tfidf logistic regression\n",
    "predicted_test = lr.predict(X_tfidf_test)"
   ]
  },
  {
   "cell_type": "code",
   "execution_count": 70,
   "id": "adf33339",
   "metadata": {},
   "outputs": [],
   "source": [
    "#probability that the test is correct\n",
    "y_score = lr.predict_proba(X_tfidf_test)[:,1]"
   ]
  },
  {
   "cell_type": "code",
   "execution_count": 82,
   "id": "6c16f048",
   "metadata": {},
   "outputs": [
    {
     "data": {
      "text/html": [
       "<div>\n",
       "<style scoped>\n",
       "    .dataframe tbody tr th:only-of-type {\n",
       "        vertical-align: middle;\n",
       "    }\n",
       "\n",
       "    .dataframe tbody tr th {\n",
       "        vertical-align: top;\n",
       "    }\n",
       "\n",
       "    .dataframe thead th {\n",
       "        text-align: right;\n",
       "    }\n",
       "</style>\n",
       "<table border=\"1\" class=\"dataframe\">\n",
       "  <thead>\n",
       "    <tr style=\"text-align: right;\">\n",
       "      <th></th>\n",
       "      <th>True Value</th>\n",
       "      <th>Pred Prob</th>\n",
       "    </tr>\n",
       "  </thead>\n",
       "  <tbody>\n",
       "    <tr>\n",
       "      <th>1764</th>\n",
       "      <td>0</td>\n",
       "      <td>0.334890</td>\n",
       "    </tr>\n",
       "    <tr>\n",
       "      <th>2271</th>\n",
       "      <td>1</td>\n",
       "      <td>0.748355</td>\n",
       "    </tr>\n",
       "    <tr>\n",
       "      <th>1535</th>\n",
       "      <td>0</td>\n",
       "      <td>0.291102</td>\n",
       "    </tr>\n",
       "    <tr>\n",
       "      <th>3264</th>\n",
       "      <td>1</td>\n",
       "      <td>0.477382</td>\n",
       "    </tr>\n",
       "    <tr>\n",
       "      <th>656</th>\n",
       "      <td>0</td>\n",
       "      <td>0.467276</td>\n",
       "    </tr>\n",
       "  </tbody>\n",
       "</table>\n",
       "</div>"
      ],
      "text/plain": [
       "      True Value  Pred Prob\n",
       "1764           0   0.334890\n",
       "2271           1   0.748355\n",
       "1535           0   0.291102\n",
       "3264           1   0.477382\n",
       "656            0   0.467276"
      ]
     },
     "execution_count": 82,
     "metadata": {},
     "output_type": "execute_result"
    }
   ],
   "source": [
    "#quick look at how close the probability is to the true value\n",
    "pred_df_lr = pd.DataFrame({'True Value': y_test,\n",
    "                        'Pred Prob':y_score})\n",
    "\n",
    "pred_df_lr.head()"
   ]
  },
  {
   "cell_type": "code",
   "execution_count": 83,
   "id": "2fc29879",
   "metadata": {},
   "outputs": [
    {
     "name": "stdout",
     "output_type": "stream",
     "text": [
      "roc_auc_score for Logistic Regression:  0.9136057884395405\n"
     ]
    }
   ],
   "source": [
    "#check for roc score\n",
    "print('roc_auc_score for Logistic Regression: ', roc_auc_score(y_test, y_score))"
   ]
  },
  {
   "cell_type": "code",
   "execution_count": 73,
   "id": "934b5e10",
   "metadata": {},
   "outputs": [],
   "source": [
    "#defining threshold for roc curve\n",
    "false_positive_rate, true_positive_rate, threshold = roc_curve(y_test, y_score)"
   ]
  },
  {
   "cell_type": "code",
   "execution_count": 140,
   "id": "cc0fcbe2",
   "metadata": {},
   "outputs": [
    {
     "data": {
      "image/png": "[encoded data removed]",
      "text/plain": [
       "<Figure size 720x720 with 1 Axes>"
      ]
     },
     "metadata": {
      "needs_background": "light"
     },
     "output_type": "display_data"
    }
   ],
   "source": [
    "#plotting of roc curve\n",
    "plt.subplots(1, figsize=(10,10))\n",
    "plt.title('Receiver Operating Characteristic - Logistic Regression')\n",
    "plt.plot(false_positive_rate, true_positive_rate)\n",
    "plt.plot([0, 1], ls=\"--\")\n",
    "plt.plot([0, 0], [1, 0] , c=\".7\"), plt.plot([1, 1] , c=\".7\")\n",
    "plt.ylabel('True Positive Rate')\n",
    "plt.xlabel('False Positive Rate')\n",
    "plt.show()"
   ]
  },
  {
   "cell_type": "markdown",
   "id": "06d5f19b",
   "metadata": {},
   "source": [
    "ROC curve looks fairly good, with a curve score of 0.914."
   ]
  },
  {
   "cell_type": "markdown",
   "id": "95f098f9",
   "metadata": {},
   "source": [
    "# Logistic Regression Coefficients"
   ]
  },
  {
   "cell_type": "code",
   "execution_count": 108,
   "id": "d02d7cd2",
   "metadata": {},
   "outputs": [
    {
     "data": {
      "text/html": [
       "<div>\n",
       "<style scoped>\n",
       "    .dataframe tbody tr th:only-of-type {\n",
       "        vertical-align: middle;\n",
       "    }\n",
       "\n",
       "    .dataframe tbody tr th {\n",
       "        vertical-align: top;\n",
       "    }\n",
       "\n",
       "    .dataframe thead th {\n",
       "        text-align: right;\n",
       "    }\n",
       "</style>\n",
       "<table border=\"1\" class=\"dataframe\">\n",
       "  <thead>\n",
       "    <tr style=\"text-align: right;\">\n",
       "      <th></th>\n",
       "      <th>co-eff</th>\n",
       "    </tr>\n",
       "  </thead>\n",
       "  <tbody>\n",
       "    <tr>\n",
       "      <th>us</th>\n",
       "      <td>3.433609</td>\n",
       "    </tr>\n",
       "    <tr>\n",
       "      <th>covid19</th>\n",
       "      <td>2.668693</td>\n",
       "    </tr>\n",
       "    <tr>\n",
       "      <th>china</th>\n",
       "      <td>2.591363</td>\n",
       "    </tr>\n",
       "    <tr>\n",
       "      <th>covid</th>\n",
       "      <td>2.164708</td>\n",
       "    </tr>\n",
       "    <tr>\n",
       "      <th>killed</th>\n",
       "      <td>2.010831</td>\n",
       "    </tr>\n",
       "  </tbody>\n",
       "</table>\n",
       "</div>"
      ],
      "text/plain": [
       "           co-eff\n",
       "us       3.433609\n",
       "covid19  2.668693\n",
       "china    2.591363\n",
       "covid    2.164708\n",
       "killed   2.010831"
      ]
     },
     "execution_count": 108,
     "metadata": {},
     "output_type": "execute_result"
    }
   ],
   "source": [
    "#creating an index with the vectorized words\n",
    "index = tvec.get_feature_names()\n",
    "\n",
    "#making df of features w/coeffs\n",
    "lr_coef_df = pd.DataFrame(lr.coef_[0],\n",
    "                         columns=[\"co-eff\"],\n",
    "                         index=index)\n",
    "#sorting for highest coeff\n",
    "lr_coef_df = lr_coef_df.sort_values(\"co-eff\", ascending=False)\n",
    "lr_coef_df.head()"
   ]
  },
  {
   "cell_type": "code",
   "execution_count": 129,
   "id": "4f908d97",
   "metadata": {},
   "outputs": [
    {
     "data": {
      "image/png": "[encoded data removed]",
      "text/plain": [
       "<Figure size 720x504 with 1 Axes>"
      ]
     },
     "metadata": {
      "needs_background": "light"
     },
     "output_type": "display_data"
    }
   ],
   "source": [
    "#isolating top and bottom coefs\n",
    "lr_coef_odds = pd.concat(objs=[lr_coef_df.head(), lr_coef_df.tail()])\n",
    "\n",
    "#plotting most significant coefs\n",
    "plt.figure(figsize=(10, 7))\n",
    "sns.barplot(data=lr_coef_odds,\n",
    "            x=\"co-eff\",\n",
    "            y=lr_coef_odds.index,\n",
    "            palette=\"rocket\")\n",
    "plt.title(\"Top Features for Determining Subreddit\", size=20)\n",
    "plt.yticks(size=12)\n",
    "plt.xticks(size=12)\n",
    "plt.ylabel(\"Feature\", size=16)\n",
    "plt.xlabel(\"Model Coefficient\\n(Log-Odds of Being from r/News)\", size=20);"
   ]
  },
  {
   "cell_type": "markdown",
   "id": "41b44ac6",
   "metadata": {},
   "source": [
    "Top features for determining r/News are US, Covid-19, Covid, China and killed. Whereas onion, nation, coronavirus and US presidents (Trump and Biden) were significant predictors of fake news and satire from r/TheOnion."
   ]
  },
  {
   "cell_type": "code",
   "execution_count": 128,
   "id": "13d0f429",
   "metadata": {},
   "outputs": [
    {
     "data": {
      "text/html": [
       "<div>\n",
       "<style scoped>\n",
       "    .dataframe tbody tr th:only-of-type {\n",
       "        vertical-align: middle;\n",
       "    }\n",
       "\n",
       "    .dataframe tbody tr th {\n",
       "        vertical-align: top;\n",
       "    }\n",
       "\n",
       "    .dataframe thead th {\n",
       "        text-align: right;\n",
       "    }\n",
       "</style>\n",
       "<table border=\"1\" class=\"dataframe\">\n",
       "  <thead>\n",
       "    <tr style=\"text-align: right;\">\n",
       "      <th></th>\n",
       "      <th>co-eff</th>\n",
       "      <th>odds</th>\n",
       "    </tr>\n",
       "  </thead>\n",
       "  <tbody>\n",
       "    <tr>\n",
       "      <th>us</th>\n",
       "      <td>3.433609</td>\n",
       "      <td>30.988267</td>\n",
       "    </tr>\n",
       "    <tr>\n",
       "      <th>covid19</th>\n",
       "      <td>2.668693</td>\n",
       "      <td>14.421113</td>\n",
       "    </tr>\n",
       "    <tr>\n",
       "      <th>china</th>\n",
       "      <td>2.591363</td>\n",
       "      <td>13.347954</td>\n",
       "    </tr>\n",
       "    <tr>\n",
       "      <th>covid</th>\n",
       "      <td>2.164708</td>\n",
       "      <td>8.712057</td>\n",
       "    </tr>\n",
       "    <tr>\n",
       "      <th>killed</th>\n",
       "      <td>2.010831</td>\n",
       "      <td>7.469522</td>\n",
       "    </tr>\n",
       "    <tr>\n",
       "      <th>biden</th>\n",
       "      <td>-1.911991</td>\n",
       "      <td>0.147786</td>\n",
       "    </tr>\n",
       "    <tr>\n",
       "      <th>coronavirus</th>\n",
       "      <td>-2.041225</td>\n",
       "      <td>0.129869</td>\n",
       "    </tr>\n",
       "    <tr>\n",
       "      <th>nation</th>\n",
       "      <td>-2.171659</td>\n",
       "      <td>0.113988</td>\n",
       "    </tr>\n",
       "    <tr>\n",
       "      <th>onion</th>\n",
       "      <td>-2.347835</td>\n",
       "      <td>0.095576</td>\n",
       "    </tr>\n",
       "    <tr>\n",
       "      <th>trump</th>\n",
       "      <td>-3.303935</td>\n",
       "      <td>0.036738</td>\n",
       "    </tr>\n",
       "  </tbody>\n",
       "</table>\n",
       "</div>"
      ],
      "text/plain": [
       "               co-eff       odds\n",
       "us           3.433609  30.988267\n",
       "covid19      2.668693  14.421113\n",
       "china        2.591363  13.347954\n",
       "covid        2.164708   8.712057\n",
       "killed       2.010831   7.469522\n",
       "biden       -1.911991   0.147786\n",
       "coronavirus -2.041225   0.129869\n",
       "nation      -2.171659   0.113988\n",
       "onion       -2.347835   0.095576\n",
       "trump       -3.303935   0.036738"
      ]
     },
     "execution_count": 128,
     "metadata": {},
     "output_type": "execute_result"
    }
   ],
   "source": [
    "#a quick look at the odds in normal form\n",
    "lr_coef_odds[\"odds\"] = lr_coef_odds.apply(lambda x: np.exp(x))\n",
    "lr_coef_odds"
   ]
  },
  {
   "cell_type": "code",
   "execution_count": 136,
   "id": "263e1f6e",
   "metadata": {},
   "outputs": [
    {
     "name": "stdout",
     "output_type": "stream",
     "text": [
      "True Negatives: 519\n",
      "False Positives: 87\n",
      "False Negatives: 108\n",
      "True Positives: 495\n"
     ]
    }
   ],
   "source": [
    "#generating confusion matrix to check results\n",
    "cm_lr = confusion_matrix(y_test, predicted_test)\n",
    "\n",
    "tn, fp, fn, tp = cm_lr.ravel()\n",
    "\n",
    "print(\"True Negatives: %s\" % tn)\n",
    "print(\"False Positives: %s\" % fp)\n",
    "print(\"False Negatives: %s\" % fn)\n",
    "print(\"True Positives: %s\" % tp)"
   ]
  },
  {
   "cell_type": "code",
   "execution_count": 137,
   "id": "ed483d5e",
   "metadata": {},
   "outputs": [
    {
     "data": {
      "text/html": [
       "<div>\n",
       "<style scoped>\n",
       "    .dataframe tbody tr th:only-of-type {\n",
       "        vertical-align: middle;\n",
       "    }\n",
       "\n",
       "    .dataframe tbody tr th {\n",
       "        vertical-align: top;\n",
       "    }\n",
       "\n",
       "    .dataframe thead th {\n",
       "        text-align: right;\n",
       "    }\n",
       "</style>\n",
       "<table border=\"1\" class=\"dataframe\">\n",
       "  <thead>\n",
       "    <tr style=\"text-align: right;\">\n",
       "      <th></th>\n",
       "      <th>Predicted News</th>\n",
       "      <th>Predicted Fake</th>\n",
       "    </tr>\n",
       "  </thead>\n",
       "  <tbody>\n",
       "    <tr>\n",
       "      <th>Actual News</th>\n",
       "      <td>519</td>\n",
       "      <td>87</td>\n",
       "    </tr>\n",
       "    <tr>\n",
       "      <th>Actual Fake</th>\n",
       "      <td>108</td>\n",
       "      <td>495</td>\n",
       "    </tr>\n",
       "  </tbody>\n",
       "</table>\n",
       "</div>"
      ],
      "text/plain": [
       "             Predicted News  Predicted Fake\n",
       "Actual News             519              87\n",
       "Actual Fake             108             495"
      ]
     },
     "execution_count": 137,
     "metadata": {},
     "output_type": "execute_result"
    }
   ],
   "source": [
    "#confusion matrix in table form\n",
    "cm_df = pd.DataFrame(cm_lr, columns=['Predicted News', 'Predicted Fake'], index=['Actual News', 'Actual Fake'])\n",
    "cm_df"
   ]
  },
  {
   "cell_type": "code",
   "execution_count": 104,
   "id": "165f50ab",
   "metadata": {},
   "outputs": [],
   "source": [
    "#function to provide accuracy, sensitivity and specificity of model\n",
    "def confusion(cm):\n",
    "    tn, fp, fn, tp = cm.ravel()\n",
    "    spec = round(tn / (tn + fp),4)\n",
    "    sens = round(tp / (tp + fn),4)\n",
    "    acc = round((tp+tn) / (tp+fn+tn+fp),4)\n",
    "    return spec,sens,acc"
   ]
  },
  {
   "cell_type": "code",
   "execution_count": 105,
   "id": "4ed26cbf",
   "metadata": {},
   "outputs": [
    {
     "name": "stdout",
     "output_type": "stream",
     "text": [
      "(0.8564, 0.8209, 0.8387)\n"
     ]
    }
   ],
   "source": [
    "#quick check if function works as intended\n",
    "cm_lr_array = confusion(cm_lr)\n",
    "print(cm_lr_array)"
   ]
  },
  {
   "cell_type": "markdown",
   "id": "a88531a0",
   "metadata": {},
   "source": [
    "## Model Summary"
   ]
  },
  {
   "cell_type": "code",
   "execution_count": 139,
   "id": "296ac881",
   "metadata": {},
   "outputs": [
    {
     "data": {
      "text/html": [
       "<div>\n",
       "<style scoped>\n",
       "    .dataframe tbody tr th:only-of-type {\n",
       "        vertical-align: middle;\n",
       "    }\n",
       "\n",
       "    .dataframe tbody tr th {\n",
       "        vertical-align: top;\n",
       "    }\n",
       "\n",
       "    .dataframe thead th {\n",
       "        text-align: right;\n",
       "    }\n",
       "</style>\n",
       "<table border=\"1\" class=\"dataframe\">\n",
       "  <thead>\n",
       "    <tr style=\"text-align: right;\">\n",
       "      <th></th>\n",
       "      <th>Specificity</th>\n",
       "      <th>Sensitivity</th>\n",
       "      <th>Accuracy</th>\n",
       "      <th>ROC Score</th>\n",
       "      <th>Train Score</th>\n",
       "      <th>Test Score</th>\n",
       "    </tr>\n",
       "  </thead>\n",
       "  <tbody>\n",
       "    <tr>\n",
       "      <th>tf-idf Logistic Regression Model</th>\n",
       "      <td>0.8564</td>\n",
       "      <td>0.8209</td>\n",
       "      <td>0.8387</td>\n",
       "      <td>0.914</td>\n",
       "      <td>0.964</td>\n",
       "      <td>0.839</td>\n",
       "    </tr>\n",
       "  </tbody>\n",
       "</table>\n",
       "</div>"
      ],
      "text/plain": [
       "                                  Specificity  Sensitivity  Accuracy  \\\n",
       "tf-idf Logistic Regression Model       0.8564       0.8209    0.8387   \n",
       "\n",
       "                                  ROC Score  Train Score  Test Score  \n",
       "tf-idf Logistic Regression Model      0.914        0.964       0.839  "
      ]
     },
     "execution_count": 139,
     "metadata": {},
     "output_type": "execute_result"
    }
   ],
   "source": [
    "#summarizing results in a final frame\n",
    "results = [0.8564, 0.8209, 0.8387, 0.914, 0.964, 0.839]\n",
    "cm_df_all = pd.DataFrame(results).T\n",
    "cm_df_all.columns=['Specificity','Sensitivity','Accuracy', 'ROC Score', 'Train Score', 'Test Score']\n",
    "cm_df_all.index=['tf-idf Logistic Regression Model']\n",
    "\n",
    "cm_df_all"
   ]
  },
  {
   "cell_type": "markdown",
   "id": "270ea7d7",
   "metadata": {},
   "source": [
    "# Conclusion"
   ]
  },
  {
   "cell_type": "markdown",
   "id": "d474e745",
   "metadata": {},
   "source": [
    "The goal of the model was to predict whether the title could indicate whether it was possible to tell between real news and satire. Despite the data being slightly overfitted with a higher train score than test score, given that the relatively high ROC score of 0.914 and Test score of 0.838 was attained, we can conclude that the model is quite successful in predicting whether a post was real or satire based on the text in its headline.\n",
    "\n",
    "Interestingly, the words Covid, Covid19, US and China were found to be better predictors of real news, whereas satire tends to use the term Coronavirus (instead of just Covid) and focused a lot more on the former and current US presidents, Trump and Biden. This could partly be due to wanting to include 'virus' in the naming for fearmongering purposes."
   ]
  },
  {
   "cell_type": "markdown",
   "id": "710fbf07",
   "metadata": {},
   "source": [
    "## Limitations"
   ]
  },
  {
   "cell_type": "markdown",
   "id": "cebd7613",
   "metadata": {},
   "source": [
    "As noted in the EDA, posts from r/TheOnion spanned a much greater length of time as compared to r/News. As such, the model trained is going to be skewed towards a much short length of time from r/News, whereas r/TheOnion posts would more widely spread out. This could have partly inhibited of the success of the model as The Onion covered the US presidential elections, a hot topic in the US whilst News is already some time away from it."
   ]
  },
  {
   "cell_type": "markdown",
   "id": "6c2e2a91",
   "metadata": {},
   "source": [
    "## Future Outlook"
   ]
  },
  {
   "cell_type": "markdown",
   "id": "eed2f99d",
   "metadata": {},
   "source": [
    "As mentioned in the limitations, the data scrapped from both subreddits were from different time frames, to circumvent this, we can scrap more data from r/News subreddit and randomly pick a sample of posts from each month. This will allow us to better map titles to their respective post dates, and prevent a skew in data towards missing events.\n",
    "\n",
    "Another possible aspect would be to perform sentiment analysis on the words found in both subreddits. From the EDA, it seemed like words from r/News are slightly more sombre with words like death, shooting and killed being visibly seen from the word cloud, indicating that sentiment might be more negative on r/News and it could be a possible predictor as well."
   ]
  }
 ],
 "metadata": {
  "kernelspec": {
   "display_name": "Python 3",
   "language": "python",
   "name": "python3"
  },
  "language_info": {
   "codemirror_mode": {
    "name": "ipython",
    "version": 3
   },
   "file_extension": ".py",
   "mimetype": "text/x-python",
   "name": "python",
   "nbconvert_exporter": "python",
   "pygments_lexer": "ipython3",
   "version": "3.8.8"
  }
 },
 "nbformat": 4,
 "nbformat_minor": 5
}
